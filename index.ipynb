{
 "cells": [
  {
   "cell_type": "markdown",
   "metadata": {},
   "source": [
    "# Extension to Linear Models - Recap"
   ]
  },
  {
   "cell_type": "markdown",
   "metadata": {},
   "source": [
    "## Introduction\n",
    "\n",
    "Congratulations, you've just modeled some complex non-linear relationships with interaction terms and polynomials! Here is a recap of what you learned in this section."
   ]
  },
  {
   "cell_type": "markdown",
   "metadata": {},
   "source": [
    "## Key Takeaways\n",
    "\n",
    "This section gave you the chance to learn about techniques whereby you can model non-linear relationships between the predictor and target variables. It's very rare that real-world problems can be modeled with a simple linear regression, so it's important to get yourself well acquainted with creating new features and selecting the most important ones.\n",
    "\n",
    "* An interaction is a particular property of two or more variables where they interact in a non-additive manner when affecting a third variable \n",
    "* Polynomial regression allows for bringing in higher orders of predictor variables (such as squared, cubed, etc) \n",
    "* The risk of polynomial regression is that they can easily overfit to data, so it's important to consider the Bias-variance tradeoff when building models with greater complexity "
   ]
  },
  {
   "cell_type": "markdown",
   "metadata": {},
   "source": [
    "## Summary\n",
    "\n",
    "Excellent work! You learned a substantial amount about different ways to model non-linear relationships. You will continue to use and build upon the concepts learned in this section for the rest of your machine learning career."
   ]
  }
 ],
 "metadata": {
  "kernelspec": {
   "display_name": "Python 3",
   "language": "python",
   "name": "python3"
  },
  "language_info": {
   "codemirror_mode": {
    "name": "ipython",
    "version": 3
   },
   "file_extension": ".py",
   "mimetype": "text/x-python",
   "name": "python",
   "nbconvert_exporter": "python",
   "pygments_lexer": "ipython3",
   "version": "3.6.9"
  }
 },
 "nbformat": 4,
 "nbformat_minor": 2
}
